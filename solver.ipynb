{
 "cells": [
  {
   "cell_type": "markdown",
   "source": [
    "# Absurdle Solver\n",
    "---\n",
    "\n",
    "[Absurdle](https://absurdle.online/) is an online word puzzle game that closely resembles the massively popular [Wordle](https://www.nytimes.com/games/wordle/index.html), implementing several of its core mechanics in the pursuit of a user correctly determining an unseen 5-letter word pattern through the repeated testing of several test patterns (guesses) to determine common letters and letter placements. The objective of a puzzle is to determine the unseen word with as few test patterns as possible.\n",
    "\n",
    "The key difference with Absurdle is its __adversarial__ nature. As opposed to a fixed hidden pattern which is revealed through several test patterns, Absurdle dynamically determines the target word based on test patterns. It does so by maximising the entropy of the search: at each guess, the partition containing the 'target' word is chosen to be the largest collection of words sharing a matching pattern with the provided guess. This continues until the partition contains precisely one word, the target word. More details on the game's mechanics can be found in the [Absurdle Blog](https://qntm.org/absurdle).\n",
    "\n",
    "While convergence to a target word is guaranteed, the reduction in the search space can be slow based on the user's sequence of guesses. As a result, Absurdle requires noticeably more turns to derive a solution than Wordle. While a seasoned Wordle player can often pick the next move which sufficiently minimises entropy, an Absurdle player is locked into pursuing the maximal entropic sequence based on their word choices.\n",
    "\n",
    "This workbook employs search strategies to determine an optimal Absurdle playing: that is, the shortest sequence of guesses required to end the game."
   ],
   "metadata": {
    "collapsed": false
   }
  },
  {
   "cell_type": "code",
   "execution_count": 124,
   "outputs": [],
   "source": [
    "# packages\n",
    "import tensorflow as tf\n",
    "import pandas as pd\n",
    "import kagglehub as kh"
   ],
   "metadata": {
    "collapsed": false,
    "ExecuteTime": {
     "end_time": "2025-01-06T15:21:58.445216100Z",
     "start_time": "2025-01-06T15:21:58.382690100Z"
    }
   }
  },
  {
   "cell_type": "markdown",
   "source": [
    "### Valid Wordle Guess/Answer Datasets\n",
    "\n",
    "Here we download the publicly available list of 5-letter Wordle guesses and answers. It is important to note that Wordle allows a sizeable superset of valid answers to be treated as valid guesses, i.e. `AAHED` is a valid _guess_ but not a valid _answer_ when playing Wordle. We make the simplifying assumption that the Absurdle vocabulary closely mirrors that of valid Wordle guesses and answers and an optimal play can be derived from the Wordle vocabulary."
   ],
   "metadata": {
    "collapsed": false
   }
  },
  {
   "cell_type": "code",
   "execution_count": 125,
   "outputs": [
    {
     "name": "stdout",
     "output_type": "stream",
     "text": [
      "Warning: Looks like you're using an outdated `kagglehub` version, please consider updating (latest version: 0.3.6)\n"
     ]
    }
   ],
   "source": [
    "dataset_path = kh.dataset_download(\"lucashohmann/wordle-valid-guesses-and-answers\")\n",
    "valid_answers = pd.read_csv(f'{dataset_path}/valid_answers.csv')\n",
    "valid_guesses = pd.read_csv(f'{dataset_path}/valid_guesses.csv')\n",
    "\n",
    "n_guesses, _ = valid_guesses.shape\n",
    "n_answers, _ = valid_answers.shape\n",
    "word_length = 5"
   ],
   "metadata": {
    "collapsed": false,
    "ExecuteTime": {
     "end_time": "2025-01-06T15:21:58.889287900Z",
     "start_time": "2025-01-06T15:21:58.398371200Z"
    }
   }
  },
  {
   "cell_type": "code",
   "execution_count": 126,
   "outputs": [
    {
     "data": {
      "text/plain": "        word\n0      aahed\n1      aalii\n2      aargh\n3      aarti\n4      abaca\n...      ...\n10660  zuzim\n10661  zygal\n10662  zygon\n10663  zymes\n10664  zymic\n\n[10665 rows x 1 columns]",
      "text/html": "<div>\n<style scoped>\n    .dataframe tbody tr th:only-of-type {\n        vertical-align: middle;\n    }\n\n    .dataframe tbody tr th {\n        vertical-align: top;\n    }\n\n    .dataframe thead th {\n        text-align: right;\n    }\n</style>\n<table border=\"1\" class=\"dataframe\">\n  <thead>\n    <tr style=\"text-align: right;\">\n      <th></th>\n      <th>word</th>\n    </tr>\n  </thead>\n  <tbody>\n    <tr>\n      <th>0</th>\n      <td>aahed</td>\n    </tr>\n    <tr>\n      <th>1</th>\n      <td>aalii</td>\n    </tr>\n    <tr>\n      <th>2</th>\n      <td>aargh</td>\n    </tr>\n    <tr>\n      <th>3</th>\n      <td>aarti</td>\n    </tr>\n    <tr>\n      <th>4</th>\n      <td>abaca</td>\n    </tr>\n    <tr>\n      <th>...</th>\n      <td>...</td>\n    </tr>\n    <tr>\n      <th>10660</th>\n      <td>zuzim</td>\n    </tr>\n    <tr>\n      <th>10661</th>\n      <td>zygal</td>\n    </tr>\n    <tr>\n      <th>10662</th>\n      <td>zygon</td>\n    </tr>\n    <tr>\n      <th>10663</th>\n      <td>zymes</td>\n    </tr>\n    <tr>\n      <th>10664</th>\n      <td>zymic</td>\n    </tr>\n  </tbody>\n</table>\n<p>10665 rows × 1 columns</p>\n</div>"
     },
     "execution_count": 126,
     "metadata": {},
     "output_type": "execute_result"
    }
   ],
   "source": [
    "valid_guesses"
   ],
   "metadata": {
    "collapsed": false,
    "ExecuteTime": {
     "end_time": "2025-01-06T15:21:58.936196500Z",
     "start_time": "2025-01-06T15:21:58.889287900Z"
    }
   }
  },
  {
   "cell_type": "code",
   "execution_count": 127,
   "outputs": [
    {
     "data": {
      "text/plain": "       word\n0     aback\n1     abase\n2     abate\n3     abbey\n4     abbot\n...     ...\n2304  young\n2305  youth\n2306  zebra\n2307  zesty\n2308  zonal\n\n[2309 rows x 1 columns]",
      "text/html": "<div>\n<style scoped>\n    .dataframe tbody tr th:only-of-type {\n        vertical-align: middle;\n    }\n\n    .dataframe tbody tr th {\n        vertical-align: top;\n    }\n\n    .dataframe thead th {\n        text-align: right;\n    }\n</style>\n<table border=\"1\" class=\"dataframe\">\n  <thead>\n    <tr style=\"text-align: right;\">\n      <th></th>\n      <th>word</th>\n    </tr>\n  </thead>\n  <tbody>\n    <tr>\n      <th>0</th>\n      <td>aback</td>\n    </tr>\n    <tr>\n      <th>1</th>\n      <td>abase</td>\n    </tr>\n    <tr>\n      <th>2</th>\n      <td>abate</td>\n    </tr>\n    <tr>\n      <th>3</th>\n      <td>abbey</td>\n    </tr>\n    <tr>\n      <th>4</th>\n      <td>abbot</td>\n    </tr>\n    <tr>\n      <th>...</th>\n      <td>...</td>\n    </tr>\n    <tr>\n      <th>2304</th>\n      <td>young</td>\n    </tr>\n    <tr>\n      <th>2305</th>\n      <td>youth</td>\n    </tr>\n    <tr>\n      <th>2306</th>\n      <td>zebra</td>\n    </tr>\n    <tr>\n      <th>2307</th>\n      <td>zesty</td>\n    </tr>\n    <tr>\n      <th>2308</th>\n      <td>zonal</td>\n    </tr>\n  </tbody>\n</table>\n<p>2309 rows × 1 columns</p>\n</div>"
     },
     "execution_count": 127,
     "metadata": {},
     "output_type": "execute_result"
    }
   ],
   "source": [
    "valid_answers"
   ],
   "metadata": {
    "collapsed": false,
    "ExecuteTime": {
     "end_time": "2025-01-06T15:21:58.936196500Z",
     "start_time": "2025-01-06T15:21:58.904928Z"
    }
   }
  },
  {
   "cell_type": "markdown",
   "source": [
    "### Wordle Pattern Matching Algorithm\n",
    "\n",
    "Here we re-implement the standard Wordle rules for comparing a test pattern against a predefined target pattern.\n",
    "The pattern matching logic is as follows:\n",
    "1. Letters in `test` which occur in the same position in `target` are marked as GREEN (**2**).\n",
    "2. Failing which, those letters in `test` and `target` which do not match in position but which still appear in both words are iteratively marked off from left to right in `test` as YELLOW (**1**), removing the letter from consideration in the `target`.\n",
    "3. Failing which, remaining letters in `test` are marked in BLACK (**0**).\n",
    "\n",
    "Some examples of this may feel counter-intuitive but are worth considering.\n",
    "Suppose `test='SPEED'` and `target='ABIDE'`:\n",
    "* rule 1 indicates no letters in `test` are marked as **2** as no letters occur in the same position in both words.\n",
    "* rule 2 indicates the 'E' in index 2 of `test` be marked **1** as it also appears in index 4 of `target`. This 'E' in `target` cannot be reused for further consideration. The same logic applies to the 'D' in index 4 of `test`.\n",
    "* rule 3 indicates that all remaining letters be marked **0**.\n",
    "\n",
    "The resulting pattern is **[0,0,1,0,1]**\n",
    "\n",
    "As all generated matching patterns can be mapped to ternary strings with B=0, Y=1, G=2, we enumerate patterns with the decimal value of the ternary string. e.g. the above pattern results in pattern no. **10**. This enumeration does not reflect the strength of the matched pattern."
   ],
   "metadata": {
    "collapsed": false
   }
  },
  {
   "cell_type": "code",
   "execution_count": 128,
   "outputs": [],
   "source": [
    "# Helper function to append the sequence number of a particular character in a word, e.g. the first 'e', second 'a', etc.\n",
    "@tf.function\n",
    "def append_sequence_no(word):\n",
    "    counter = tf.cast(tf.scan(lambda a, x: a + tf.one_hot(x, 26), word, tf.zeros(26)), tf.int32)\n",
    "    sequence_no = tf.gather_nd(counter, tf.transpose(tf.stack((tf.range(word_length), word))))\n",
    "    return tf.transpose(tf.stack((word, sequence_no)))\n",
    "\n",
    "# Wordle pattern matching algorithm\n",
    "@tf.function\n",
    "def match_pattern_vec(test, target):\n",
    "\n",
    "    # Turn words into offset byte vectors\n",
    "    test =  tf.reshape((tf.strings.unicode_decode(test,'UTF-8') - 97).to_tensor(-1),(word_length,))\n",
    "    target =  tf.reshape((tf.strings.unicode_decode(target,'UTF-8') - 97).to_tensor(-1),(word_length,))\n",
    "\n",
    "    # Form green mask by comparing content in exact placement\n",
    "    green_mask = tf.cast(test == target, tf.int32)\n",
    "\n",
    "    # Mask the test word by removing those characters covered by the green mask\n",
    "    test_masked = tf.where(tf.cast(green_mask,tf.bool), -1, test)\n",
    "\n",
    "    # Determine sequence numbers for the test and target\n",
    "    test_sequenced = append_sequence_no(test_masked)\n",
    "    target_sequenced = append_sequence_no(target)\n",
    "\n",
    "    # Form yellow mask by looking for matching character and sequence number in any order\n",
    "    yellow_mask = tf.map_fn(lambda t: tf.cast(tf.reduce_any(tf.reduce_all(t == target_sequenced,axis=-1)), tf.int32), test_sequenced)\n",
    "\n",
    "    # Return ternary array\n",
    "    return (2 * green_mask) + (1 * yellow_mask)\n",
    "\n",
    "@tf.function()\n",
    "def match_pattern(test, target):\n",
    "    return tf.reduce_sum(match_pattern_vec(test, target) * 3 ** tf.range(word_length))"
   ],
   "metadata": {
    "collapsed": false,
    "ExecuteTime": {
     "end_time": "2025-01-06T15:21:58.951795900Z",
     "start_time": "2025-01-06T15:21:58.936196500Z"
    }
   }
  },
  {
   "cell_type": "code",
   "execution_count": 129,
   "outputs": [],
   "source": [
    "@tf.function\n",
    "def reduce_targets_by_test(targets, test):\n",
    "    patterns = tf.map_fn(lambda target: match_pattern(test, target),targets,fn_output_signature=tf.int32)\n",
    "    unique_patterns, pattern_indices, pattern_counts = tf.unique_with_counts(patterns)\n",
    "    idx_max = tf.cast(tf.argmax(pattern_counts), tf.int32)\n",
    "    return targets[pattern_indices == idx_max]"
   ],
   "metadata": {
    "collapsed": false,
    "ExecuteTime": {
     "end_time": "2025-01-06T15:21:58.999080200Z",
     "start_time": "2025-01-06T15:21:58.951795900Z"
    }
   }
  },
  {
   "cell_type": "code",
   "execution_count": 130,
   "outputs": [
    {
     "data": {
      "text/plain": "<tf.Tensor: shape=(448, 1), dtype=string, numpy=\narray([[b'bigot'],\n       [b'billy'],\n       [b'bingo'],\n       [b'bison'],\n       [b'bitty'],\n       [b'blimp'],\n       [b'blink'],\n       [b'bliss'],\n       [b'blitz'],\n       [b'block'],\n       [b'bloom'],\n       [b'blown'],\n       [b'bluff'],\n       [b'blunt'],\n       [b'blurb'],\n       [b'blurt'],\n       [b'bobby'],\n       [b'bongo'],\n       [b'bonus'],\n       [b'booby'],\n       [b'boost'],\n       [b'booty'],\n       [b'boozy'],\n       [b'bosom'],\n       [b'bossy'],\n       [b'brick'],\n       [b'bring'],\n       [b'brink'],\n       [b'briny'],\n       [b'brisk'],\n       [b'broil'],\n       [b'brook'],\n       [b'broom'],\n       [b'brown'],\n       [b'brunt'],\n       [b'buggy'],\n       [b'built'],\n       [b'bulky'],\n       [b'bully'],\n       [b'bunny'],\n       [b'burly'],\n       [b'burnt'],\n       [b'burst'],\n       [b'buxom'],\n       [b'civic'],\n       [b'civil'],\n       [b'click'],\n       [b'cliff'],\n       [b'climb'],\n       [b'cling'],\n       [b'clink'],\n       [b'clock'],\n       [b'clout'],\n       [b'clown'],\n       [b'cluck'],\n       [b'clump'],\n       [b'clung'],\n       [b'colon'],\n       [b'color'],\n       [b'comfy'],\n       [b'comic'],\n       [b'conic'],\n       [b'corny'],\n       [b'count'],\n       [b'court'],\n       [b'coyly'],\n       [b'crick'],\n       [b'crimp'],\n       [b'crisp'],\n       [b'crock'],\n       [b'crony'],\n       [b'crook'],\n       [b'cross'],\n       [b'croup'],\n       [b'crown'],\n       [b'crumb'],\n       [b'crump'],\n       [b'crust'],\n       [b'crypt'],\n       [b'cubic'],\n       [b'cumin'],\n       [b'curio'],\n       [b'curly'],\n       [b'curry'],\n       [b'curvy'],\n       [b'cynic'],\n       [b'ficus'],\n       [b'fifty'],\n       [b'filly'],\n       [b'filmy'],\n       [b'first'],\n       [b'fizzy'],\n       [b'flick'],\n       [b'fling'],\n       [b'flint'],\n       [b'flirt'],\n       [b'flock'],\n       [b'floor'],\n       [b'floss'],\n       [b'flour'],\n       [b'flout'],\n       [b'flown'],\n       [b'fluff'],\n       [b'flung'],\n       [b'flunk'],\n       [b'focus'],\n       [b'foggy'],\n       [b'foist'],\n       [b'folio'],\n       [b'folly'],\n       [b'forgo'],\n       [b'forty'],\n       [b'forum'],\n       [b'frill'],\n       [b'frisk'],\n       [b'fritz'],\n       [b'frock'],\n       [b'front'],\n       [b'frost'],\n       [b'frown'],\n       [b'fruit'],\n       [b'fully'],\n       [b'fungi'],\n       [b'funky'],\n       [b'funny'],\n       [b'furor'],\n       [b'furry'],\n       [b'fussy'],\n       [b'fuzzy'],\n       [b'gipsy'],\n       [b'girly'],\n       [b'glint'],\n       [b'gloom'],\n       [b'glory'],\n       [b'gloss'],\n       [b'going'],\n       [b'golly'],\n       [b'goofy'],\n       [b'grill'],\n       [b'grimy'],\n       [b'groin'],\n       [b'groom'],\n       [b'gross'],\n       [b'group'],\n       [b'grout'],\n       [b'growl'],\n       [b'grown'],\n       [b'gruff'],\n       [b'grunt'],\n       [b'guilt'],\n       [b'gully'],\n       [b'gumbo'],\n       [b'gummy'],\n       [b'guppy'],\n       [b'gusto'],\n       [b'gusty'],\n       [b'gypsy'],\n       [b'icily'],\n       [b'icing'],\n       [b'igloo'],\n       [b'imply'],\n       [b'inbox'],\n       [b'incur'],\n       [b'ingot'],\n       [b'input'],\n       [b'intro'],\n       [b'ionic'],\n       [b'irony'],\n       [b'ivory'],\n       [b'jiffy'],\n       [b'joint'],\n       [b'joist'],\n       [b'jolly'],\n       [b'joust'],\n       [b'juicy'],\n       [b'jumbo'],\n       [b'jumpy'],\n       [b'junto'],\n       [b'juror'],\n       [b'kinky'],\n       [b'kiosk'],\n       [b'kitty'],\n       [b'knock'],\n       [b'knoll'],\n       [b'known'],\n       [b'krill'],\n       [b'limbo'],\n       [b'limit'],\n       [b'lingo'],\n       [b'lobby'],\n       [b'locus'],\n       [b'lofty'],\n       [b'logic'],\n       [b'login'],\n       [b'loopy'],\n       [b'lorry'],\n       [b'lousy'],\n       [b'lowly'],\n       [b'lucky'],\n       [b'lumpy'],\n       [b'lupus'],\n       [b'lusty'],\n       [b'lying'],\n       [b'lyric'],\n       [b'micro'],\n       [b'milky'],\n       [b'mimic'],\n       [b'minim'],\n       [b'minor'],\n       [b'minty'],\n       [b'minus'],\n       [b'missy'],\n       [b'mogul'],\n       [b'moist'],\n       [b'moron'],\n       [b'mossy'],\n       [b'motif'],\n       [b'motor'],\n       [b'motto'],\n       [b'moult'],\n       [b'mount'],\n       [b'mourn'],\n       [b'mucky'],\n       [b'mucus'],\n       [b'mummy'],\n       [b'murky'],\n       [b'music'],\n       [b'musky'],\n       [b'musty'],\n       [b'ninny'],\n       [b'nobly'],\n       [b'noisy'],\n       [b'nutty'],\n       [b'nylon'],\n       [b'occur'],\n       [b'onion'],\n       [b'opium'],\n       [b'optic'],\n       [b'orbit'],\n       [b'outgo'],\n       [b'owing'],\n       [b'picky'],\n       [b'piggy'],\n       [b'pilot'],\n       [b'pinky'],\n       [b'pinto'],\n       [b'pivot'],\n       [b'pluck'],\n       [b'plumb'],\n       [b'plump'],\n       [b'plunk'],\n       [b'point'],\n       [b'polyp'],\n       [b'poppy'],\n       [b'posit'],\n       [b'pouty'],\n       [b'prick'],\n       [b'primo'],\n       [b'print'],\n       [b'prior'],\n       [b'prism'],\n       [b'privy'],\n       [b'prong'],\n       [b'proof'],\n       [b'prowl'],\n       [b'proxy'],\n       [b'pubic'],\n       [b'puffy'],\n       [b'pulpy'],\n       [b'pupil'],\n       [b'puppy'],\n       [b'putty'],\n       [b'pygmy'],\n       [b'quick'],\n       [b'quill'],\n       [b'quilt'],\n       [b'quirk'],\n       [b'rigor'],\n       [b'risky'],\n       [b'robin'],\n       [b'robot'],\n       [b'rocky'],\n       [b'roomy'],\n       [b'roost'],\n       [b'rotor'],\n       [b'rugby'],\n       [b'rumor'],\n       [b'rusty'],\n       [b'scion'],\n       [b'scoff'],\n       [b'scoop'],\n       [b'scorn'],\n       [b'scour'],\n       [b'scout'],\n       [b'scowl'],\n       [b'scrub'],\n       [b'scrum'],\n       [b'silky'],\n       [b'silly'],\n       [b'sissy'],\n       [b'sixty'],\n       [b'skiff'],\n       [b'skill'],\n       [b'skimp'],\n       [b'skirt'],\n       [b'skulk'],\n       [b'skull'],\n       [b'skunk'],\n       [b'slick'],\n       [b'slimy'],\n       [b'sling'],\n       [b'slink'],\n       [b'sloop'],\n       [b'slump'],\n       [b'slung'],\n       [b'slunk'],\n       [b'slurp'],\n       [b'slyly'],\n       [b'smirk'],\n       [b'smock'],\n       [b'smoky'],\n       [b'sniff'],\n       [b'snoop'],\n       [b'snort'],\n       [b'snout'],\n       [b'snowy'],\n       [b'snuck'],\n       [b'snuff'],\n       [b'soggy'],\n       [b'sonic'],\n       [b'sooty'],\n       [b'sorry'],\n       [b'spicy'],\n       [b'spiky'],\n       [b'spill'],\n       [b'spilt'],\n       [b'spiny'],\n       [b'split'],\n       [b'spoil'],\n       [b'spoof'],\n       [b'spook'],\n       [b'spool'],\n       [b'spoon'],\n       [b'sport'],\n       [b'spout'],\n       [b'sprig'],\n       [b'spunk'],\n       [b'spurn'],\n       [b'spurt'],\n       [b'squib'],\n       [b'stick'],\n       [b'stiff'],\n       [b'still'],\n       [b'stilt'],\n       [b'sting'],\n       [b'stink'],\n       [b'stint'],\n       [b'stock'],\n       [b'stoic'],\n       [b'stomp'],\n       [b'stony'],\n       [b'stool'],\n       [b'stoop'],\n       [b'stork'],\n       [b'storm'],\n       [b'story'],\n       [b'stout'],\n       [b'strip'],\n       [b'strut'],\n       [b'stuck'],\n       [b'stuff'],\n       [b'stump'],\n       [b'stung'],\n       [b'stunk'],\n       [b'stunt'],\n       [b'suing'],\n       [b'sulky'],\n       [b'sully'],\n       [b'sunny'],\n       [b'surly'],\n       [b'swift'],\n       [b'swill'],\n       [b'swing'],\n       [b'swirl'],\n       [b'swoon'],\n       [b'swoop'],\n       [b'sworn'],\n       [b'swung'],\n       [b'syrup'],\n       [b'tipsy'],\n       [b'tonic'],\n       [b'topic'],\n       [b'torso'],\n       [b'torus'],\n       [b'toxic'],\n       [b'toxin'],\n       [b'trick'],\n       [b'troll'],\n       [b'troop'],\n       [b'trout'],\n       [b'truck'],\n       [b'truly'],\n       [b'trump'],\n       [b'trunk'],\n       [b'truss'],\n       [b'trust'],\n       [b'tryst'],\n       [b'tulip'],\n       [b'tumor'],\n       [b'tunic'],\n       [b'turbo'],\n       [b'tutor'],\n       [b'twirl'],\n       [b'twist'],\n       [b'twixt'],\n       [b'tying'],\n       [b'uncut'],\n       [b'unfit'],\n       [b'unify'],\n       [b'union'],\n       [b'unity'],\n       [b'unlit'],\n       [b'until'],\n       [b'unzip'],\n       [b'using'],\n       [b'usurp'],\n       [b'vigil'],\n       [b'vigor'],\n       [b'vinyl'],\n       [b'virus'],\n       [b'visit'],\n       [b'visor'],\n       [b'vomit'],\n       [b'vying'],\n       [b'willy'],\n       [b'wimpy'],\n       [b'wispy'],\n       [b'witty'],\n       [b'wooly'],\n       [b'woozy'],\n       [b'worry'],\n       [b'worst'],\n       [b'wring'],\n       [b'wrist'],\n       [b'wrong'],\n       [b'wrung'],\n       [b'wryly'],\n       [b'young']], dtype=object)>"
     },
     "execution_count": 130,
     "metadata": {},
     "output_type": "execute_result"
    }
   ],
   "source": [
    "reduce_targets_by_test(valid_answers, valid_guesses.iloc[0])"
   ],
   "metadata": {
    "collapsed": false,
    "ExecuteTime": {
     "end_time": "2025-01-06T15:22:16.214829Z",
     "start_time": "2025-01-06T15:21:58.967819600Z"
    }
   }
  },
  {
   "cell_type": "code",
   "execution_count": 130,
   "outputs": [],
   "source": [],
   "metadata": {
    "collapsed": false,
    "ExecuteTime": {
     "end_time": "2025-01-06T15:22:16.292954700Z",
     "start_time": "2025-01-06T15:22:16.214829Z"
    }
   }
  }
 ],
 "metadata": {
  "kernelspec": {
   "display_name": "Python 3",
   "language": "python",
   "name": "python3"
  },
  "language_info": {
   "codemirror_mode": {
    "name": "ipython",
    "version": 2
   },
   "file_extension": ".py",
   "mimetype": "text/x-python",
   "name": "python",
   "nbconvert_exporter": "python",
   "pygments_lexer": "ipython2",
   "version": "2.7.6"
  }
 },
 "nbformat": 4,
 "nbformat_minor": 0
}
